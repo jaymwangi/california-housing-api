{
 "cells": [
  {
   "cell_type": "markdown",
   "id": "026ea00d-dc39-4cdf-8d48-c968a5d221d7",
   "metadata": {},
   "source": [
    "# USA - California Housing Price Prediction 🏡  \n",
    "This notebook trains a **Random Forest Regressor** on the **California Housing Dataset** from `scikit-learn`.  \n",
    "The goal is to predict house prices based on various features.\n",
    "\n",
    "## 📌 Steps:\n",
    "1. Load the dataset\n",
    "2. Preprocess the data\n",
    "3. Train a model\n",
    "4. Evaluate performance\n",
    "5. Save the trained model"
   ]
  },
  {
   "cell_type": "code",
   "execution_count": null,
   "id": "406ef18c-495d-4613-8bb4-40d6e849701d",
   "metadata": {},
   "outputs": [],
   "source": [
    "import numpy as np\n",
    "import pandas as pd\n",
    "import joblib\n",
    "import matplotlib.pyplot as plt\n",
    "import seaborn as sns\n",
    "from sklearn.model_selection import train_test_split\n",
    "from sklearn.ensemble import RandomForestRegressor\n",
    "from sklearn.metrics import mean_absolute_error, root_mean_squared_error, r2_score\n",
    "from sklearn.datasets import fetch_california_housing"
   ]
  },
  {
   "cell_type": "code",
   "execution_count": null,
   "id": "7a555afa-95df-4fcd-bd0d-137b5bf4f5b0",
   "metadata": {},
   "outputs": [],
   "source": [
    "# 📌 Step 1: Load dataset\n",
    "data = fetch_california_housing()\n",
    "df = pd.DataFrame(data.data, columns=data.feature_names)\n",
    "df['target'] = data.target\n",
    "\n",
    "print(\"Dataset loaded successfully!\")\n",
    "df.head()  # Display first 5 rows"
   ]
  },
  {
   "cell_type": "markdown",
   "id": "be5820e7-5f1c-485a-84cf-d20fb150863e",
   "metadata": {},
   "source": [
    "## 📌 Step 2: Split Data  \n",
    "We'll split the dataset into **training (80%)** and **testing (20%)** sets."
   ]
  },
  {
   "cell_type": "code",
   "execution_count": null,
   "id": "0a4de3c3-a8b3-4e80-90cb-e534e901c0d3",
   "metadata": {},
   "outputs": [],
   "source": [
    "X = df.drop(columns=['target'])  # Drop target column only\n",
    "y = df['target']\n",
    "X_train, X_test, y_train, y_test = train_test_split(X, y, test_size=0.2, random_state=42)\n",
    "\n",
    "print(\"Data split complete!\")"
   ]
  },
  {
   "cell_type": "markdown",
   "id": "3ccd2d3f-3577-4dfc-80cd-39b0f3ecc373",
   "metadata": {},
   "source": [
    "## 📌 Step 3: Train the Model  \n",
    "We'll use a **Random Forest Regressor** with 100 trees."
   ]
  },
  {
   "cell_type": "code",
   "execution_count": null,
   "id": "c043442a-c5b8-45e2-ad52-ed0062862860",
   "metadata": {},
   "outputs": [],
   "source": [
    "# Train model\n",
    "model = RandomForestRegressor(n_estimators=100, random_state=42)\n",
    "model.fit(X_train, y_train)\n",
    "\n",
    "print(\"Model training complete!\")"
   ]
  },
  {
   "cell_type": "markdown",
   "id": "20a9559d-aed2-40c8-8bcb-5b2c15b46333",
   "metadata": {},
   "source": [
    "## 📌 Step 4: Evaluate Model Performance  \n",
    "We'll measure performance using **Mean Absolute Error (MAE)**, **Root Mean Squared Error (RMSE)**, and **R² Score**."
   ]
  },
  {
   "cell_type": "code",
   "execution_count": null,
   "id": "6c639586-b44d-49f0-bc62-90ffc7d55e7e",
   "metadata": {},
   "outputs": [],
   "source": [
    "\n",
    "y_pred = model.predict(X_test)\n",
    "mae = mean_absolute_error(y_test, y_pred)\n",
    "rmse = root_mean_squared_error(y_test, y_pred)\n",
    "r2 = r2_score(y_test, y_pred)\n",
    "\n",
    "# Convert errors to percentage relative to mean house price\n",
    "mean_price = np.mean(y_test)\n",
    "mae_percentage = (mae / mean_price) * 100\n",
    "rmse_percentage = (rmse / mean_price) * 100\n",
    "\n",
    "# Calculate model accuracy as percentage\n",
    "model_accuracy = (1 - (mae / mean_price)) * 100\n",
    "error_percentage = 100 - model_accuracy\n",
    "\n",
    "# Print raw evaluation results\n",
    "print(f\"Mean Absolute Error (MAE): {mae:.2f}\")\n",
    "print(f\"Root Mean Squared Error (RMSE): {rmse:.2f}\")\n",
    "print(f\"R² Score: {r2:.2f}\")\n",
    "print(f\"MAE as Percentage: {mae_percentage:.2f}%\")\n",
    "print(f\"RMSE as Percentage: {rmse_percentage:.2f}%\")\n",
    "print(f\"Model Accuracy: {model_accuracy:.2f}%\")\n",
    "print(f\"Error Percentage: {error_percentage:.2f}%\")"
   ]
  },
  {
   "cell_type": "markdown",
   "id": "eec73d22-8b71-44e1-a030-62a715cd21cd",
   "metadata": {},
   "source": [
    "### 🔍 Model Evaluation Summary:\n",
    "- **Mean Absolute Error (MAE):** 0.33 (15.94%)\n",
    "- **Root Mean Squared Error (RMSE):** 0.51 (24.59%)\n",
    "- **R² Score:** 0.81\n",
    "- **Model Accuracy:** 84.06%\n",
    "- **Error Percentage:** 15.94%\n",
    "\n",
    "💡 The model predicts California house prices with approximately **84.06% accuracy**. This means that about **15.94%** of predictions have some level of error. A higher accuracy and a lower error percentage indicate that the model is performing well. However, since no model is perfect, some prediction errors are expected.\n",
    "```dictions have some level of error. A higher accuracy and a lower error percentage indicate that the model is performing well. However, since no model is perfect, some prediction errors are expected.\n",
    "```"
   ]
  },
  {
   "cell_type": "markdown",
   "id": "9f482071-8976-4223-9324-a3ace6b9a60b",
   "metadata": {},
   "source": [
    "## 📌 Step 5: Feature Importance Analysis  \n",
    "We'll visualize the importance of different features in predicting house prices."
   ]
  },
  {
   "cell_type": "code",
   "execution_count": null,
   "id": "9389dfad-906c-4ef2-bfb7-16df30f33f5a",
   "metadata": {
    "scrolled": true
   },
   "outputs": [],
   "source": [
    "# Get feature importances\n",
    "feature_importances = model.feature_importances_\n",
    "feature_names = X.columns\n",
    "\n",
    "# Create a DataFrame for visualization\n",
    "importance_df = pd.DataFrame({'Feature': feature_names, 'Importance': feature_importances})\n",
    "importance_df = importance_df.sort_values(by='Importance', ascending=False)\n",
    "\n",
    "# Plot feature importance\n",
    "plt.figure(figsize=(10, 6))\n",
    "sns.barplot(x='Importance', y='Feature', data=importance_df, palette='viridis', hue='Feature', legend=False)\n",
    "plt.title('Feature Importance in House Price Prediction')\n",
    "plt.xlabel('Importance')\n",
    "plt.ylabel('Feature')\n",
    "plt.show()"
   ]
  },
  {
   "cell_type": "markdown",
   "id": "be8afbae-e36c-48f4-816f-ce48c5a8ee89",
   "metadata": {},
   "source": [
    "### 🔍 Understanding Feature Importance:\n",
    "Feature importance helps us understand which variables have the most influence on house price predictions. Features with higher importance contribute more to the model's predictions. By analyzing this, we can focus on the most impactful variables and potentially improve the model by selecting the most relevant features.\n",
    "\n",
    "- Features with **higher bars** have a **stronger impact** on house prices.  \n",
    "- Less important features may be removed in future models to improve efficiency.  \n",
    "- This insight can guide homeowners, real estate agents, and policymakers in understanding which factors matter most in property valuation.  \n",
    "\n",
    "🔹 **Top Influential Features:**\n",
    "1. **MedInc (Median Income)** - The most significant factor affecting house prices.\n",
    "2. **AveRooms (Average Rooms per Household)** - More rooms per household tend to increase value.\n",
    "3. **AveOccup (Average Occupancy per Household)** - Reflects population density and housing demand.\n",
    "4. **Latitude** - Geographic location plays a role in property valuation.\n",
    "5. **Longitude** - Along with latitude, this helps define price variations by region.\n"
   ]
  },
  {
   "cell_type": "markdown",
   "id": "d01163c3-7582-4257-b952-1a869f95e3c6",
   "metadata": {},
   "source": [
    "## 📌 Step 6: Save the Trained Model  \n",
    "We'll save the trained model as `model.pkl` for deployment."
   ]
  },
  {
   "cell_type": "code",
   "execution_count": null,
   "id": "f632dcfb-4296-4f5a-9b9e-010d78d84c8c",
   "metadata": {},
   "outputs": [],
   "source": [
    "joblib.dump(model, \"model.pkl\")\n",
    "print(\"Model saved as model.pkl\")"
   ]
  }
 ],
 "metadata": {
  "kernelspec": {
   "display_name": "Python 3",
   "language": "python",
   "name": "python3"
  },
  "language_info": {
   "codemirror_mode": {
    "name": "ipython",
    "version": 3
   },
   "file_extension": ".py",
   "mimetype": "text/x-python",
   "name": "python",
   "nbconvert_exporter": "python",
   "pygments_lexer": "ipython3",
   "version": "3.12.0"
  }
 },
 "nbformat": 4,
 "nbformat_minor": 5
}
